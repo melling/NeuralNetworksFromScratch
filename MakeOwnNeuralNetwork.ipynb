{
  "nbformat": 4,
  "nbformat_minor": 0,
  "metadata": {
    "colab": {
      "name": "MakeOwnNeuralNetwork.ipynb",
      "provenance": [],
      "collapsed_sections": [],
      "authorship_tag": "ABX9TyNyK6AGX3Emp+uFOhbGkUw1",
      "include_colab_link": true
    },
    "kernelspec": {
      "name": "python3",
      "display_name": "Python 3"
    },
    "language_info": {
      "name": "python"
    }
  },
  "cells": [
    {
      "cell_type": "markdown",
      "metadata": {
        "id": "view-in-github",
        "colab_type": "text"
      },
      "source": [
        "<a href=\"https://colab.research.google.com/github/melling/NeuralNetworksFromScratch/blob/main/MakeOwnNeuralNetwork.ipynb\" target=\"_parent\"><img src=\"https://colab.research.google.com/assets/colab-badge.svg\" alt=\"Open In Colab\"/></a>"
      ]
    },
    {
      "cell_type": "code",
      "metadata": {
        "id": "mRJ11YvGYHUy"
      },
      "source": [
        "import numpy\n",
        "\n",
        "import numpy as np\n",
        "import scipy.special # expit"
      ],
      "execution_count": null,
      "outputs": []
    },
    {
      "cell_type": "code",
      "metadata": {
        "colab": {
          "base_uri": "https://localhost:8080/"
        },
        "id": "LwtEobJjVfKO",
        "outputId": "1969ff56-2645-4a35-c1a0-64b79ebc2f11"
      },
      "source": [
        "# Run this cell to connect to your Drive folder\n",
        "\n",
        "from google.colab import drive\n",
        "drive.mount('/content/gdrive')"
      ],
      "execution_count": null,
      "outputs": [
        {
          "output_type": "stream",
          "text": [
            "Drive already mounted at /content/gdrive; to attempt to forcibly remount, call drive.mount(\"/content/gdrive\", force_remount=True).\n"
          ],
          "name": "stdout"
        }
      ]
    },
    {
      "cell_type": "code",
      "metadata": {
        "colab": {
          "base_uri": "https://localhost:8080/"
        },
        "id": "AKxMWc0hVxNA",
        "outputId": "b6c141cf-e03e-4480-d947-cb40f0aca96e"
      },
      "source": [
        "!ls gdrive/MyDrive/ml_data"
      ],
      "execution_count": null,
      "outputs": [
        {
          "output_type": "stream",
          "text": [
            "make_nn_scratch  thinkstat   x_train.npy  y_train.npy\n",
            "svhn_data\t x_test.npy  y_test.npy\n"
          ],
          "name": "stdout"
        }
      ]
    },
    {
      "cell_type": "markdown",
      "metadata": {
        "id": "772YvmFa6Nh9"
      },
      "source": [
        "# Original Neural Network from Book"
      ]
    },
    {
      "cell_type": "code",
      "metadata": {
        "id": "cZw1oHnu17Zr"
      },
      "source": [
        "class neuralNetwork:\n",
        "    \n",
        "    \n",
        "    # initialise the neural network\n",
        "    def __init__(self, inputnodes, hiddennodes, outputnodes, learningrate):\n",
        "        # set number of nodes in each input, hidden, output layer\n",
        "        self.inodes = inputnodes\n",
        "        self.hnodes = hiddennodes\n",
        "        self.onodes = outputnodes\n",
        "        \n",
        "        # link weight matrices, wih and who\n",
        "        # weights inside the arrays are w_i_j, where link is from node i to node j in the next layer\n",
        "        # w11 w21\n",
        "        # w12 w22 etc \n",
        "        self.wih = numpy.random.normal(0.0, pow(self.inodes, -0.5), (self.hnodes, self.inodes))\n",
        "        self.who = numpy.random.normal(0.0, pow(self.hnodes, -0.5), (self.onodes, self.hnodes))\n",
        "\n",
        "        # learning rate\n",
        "        self.lr = learningrate\n",
        "        \n",
        "        # activation function is the sigmoid function\n",
        "        self.activation_function = lambda x: scipy.special.expit(x)\n",
        "        \n",
        "        pass\n",
        "\n",
        "    \n",
        "    # train the neural network\n",
        "    def train(self, inputs_list, targets_list):\n",
        "        # convert inputs list to 2d array\n",
        "        inputs = numpy.array(inputs_list, ndmin=2).T\n",
        "        targets = numpy.array(targets_list, ndmin=2).T\n",
        "        \n",
        "        # calculate signals into hidden layer\n",
        "        hidden_inputs = numpy.dot(self.wih, inputs)\n",
        "        # calculate the signals emerging from hidden layer\n",
        "        hidden_outputs = self.activation_function(hidden_inputs)\n",
        "        \n",
        "        # calculate signals into final output layer\n",
        "        final_inputs = numpy.dot(self.who, hidden_outputs)\n",
        "        # calculate the signals emerging from final output layer\n",
        "        final_outputs = self.activation_function(final_inputs)\n",
        "        \n",
        "        # output layer error is the (target - actual)\n",
        "        output_errors = targets - final_outputs\n",
        "        # hidden layer error is the output_errors, split by weights, recombined at hidden nodes\n",
        "        hidden_errors = numpy.dot(self.who.T, output_errors) \n",
        "        \n",
        "        # update the weights for the links between the hidden and output layers\n",
        "        self.who += self.lr * numpy.dot((output_errors * final_outputs * (1.0 - final_outputs)), numpy.transpose(hidden_outputs))\n",
        "        \n",
        "        # update the weights for the links between the input and hidden layers\n",
        "        self.wih += self.lr * numpy.dot((hidden_errors * hidden_outputs * (1.0 - hidden_outputs)), numpy.transpose(inputs))\n",
        "        \n",
        "        pass\n",
        "\n",
        "    \n",
        "    # query the neural network\n",
        "    def query(self, inputs_list):\n",
        "        # convert inputs list to 2d array\n",
        "        inputs = numpy.array(inputs_list, ndmin=2).T\n",
        "        \n",
        "        # calculate signals into hidden layer\n",
        "        hidden_inputs = numpy.dot(self.wih, inputs)\n",
        "        # calculate the signals emerging from hidden layer\n",
        "        hidden_outputs = self.activation_function(hidden_inputs)\n",
        "        \n",
        "        # calculate signals into final output layer\n",
        "        final_inputs = numpy.dot(self.who, hidden_outputs)\n",
        "        # calculate the signals emerging from final output layer\n",
        "        final_outputs = self.activation_function(final_inputs)\n",
        "        \n",
        "        return final_outputs\n",
        "        "
      ],
      "execution_count": null,
      "outputs": []
    },
    {
      "cell_type": "code",
      "metadata": {
        "id": "6b39wm7yV9eT"
      },
      "source": [
        "class NeuralNetwork:\n",
        "\n",
        "  def __init__(self, input_nodes, hidden_nodes, output_nodes, learning_rate=0.1):\n",
        "    self.inodes = input_nodes\n",
        "    self.hnodes = hidden_nodes\n",
        "    self.onodes = output_nodes\n",
        "\n",
        "    self.learning_rate = learning_rate\n",
        "\n",
        "    # Link Weights\n",
        "    # link weight matrices, wih and who\n",
        "    # weights inside the arrays are w_i_j, where link is from node i to node j in the next layer\n",
        "\n",
        "    # w_11, w_21 - col,row??\n",
        "    # w_21, w_22 etc\n",
        "\n",
        "    # wih - weights_input2hidden\n",
        "    # who - weights_hidden2output\n",
        "    # Important: Get the dimensions right\n",
        "    self.weights_input2hidden = np.random.normal(0.0, pow(self.inodes, -0.5), (self.hnodes, self.inodes))\n",
        "    self.weights_hidden2output = np.random.normal(0.0, pow(self.hnodes, -0.5), (self.onodes, self.hnodes))\n",
        "\n",
        "    # https://docs.scipy.org/doc/scipy/reference/generated/scipy.special.expit.html\n",
        "    self.activation_function = lambda x: scipy.special.expit(x)\n",
        "\n",
        "  def train(self, input_list, targets_list):\n",
        "    inputs = np.array(input_list, ndmin=2).T\n",
        "    targets = np.array(targets_list, ndmin=2).T\n",
        "\n",
        "    # Calculate signals into hidden layer\n",
        "    hidden_inputs = np.dot(self.weights_input2hidden, inputs)\n",
        "\n",
        "    hidden_outputs = self.activation_function(hidden_inputs)\n",
        "    # print(f\"weights_hidden2output={self.weights_hidden2output.shape} / hidden_outputs shape={hidden_outputs.shape}\")\n",
        "\n",
        "    final_inputs = np.dot(self.weights_hidden2output, hidden_outputs)\n",
        "\n",
        "    final_outputs = self.activation_function(final_inputs)\n",
        "\n",
        "    # output layer error is the (target ­ actual)\n",
        "    output_errors = targets - final_outputs\n",
        "\n",
        "    # hidden layer error is the output_errors, split by weights, recombined at hidden nodes\n",
        "    hidden_errors = np.dot(self.weights_hidden2output.T, output_errors)\n",
        "\n",
        "    # update the weights for the links between the hidden and output layers\n",
        "    self.weights_hidden2output += self.learning_rate * np.dot((output_errors * final_outputs * (1 - final_outputs)), np.transpose(hidden_outputs))\n",
        "    \n",
        "    self.weights_input2hidden += self.learning_rate * np.dot((hidden_errors * hidden_outputs * (1 - hidden_outputs)), np.transpose(inputs))\n",
        "\n",
        "  def query(self, input_list):\n",
        "    # convert inputs list to 2d numpy array\n",
        "    inputs = np.array(input_list, ndmin=2).T\n",
        "\n",
        "    # Calculate signals into hidden layer\n",
        "    hidden_inputs = np.dot(self.weights_input2hidden, inputs)\n",
        "\n",
        "    hidden_outputs = self.activation_function(hidden_inputs)\n",
        "\n",
        "    final_inputs = np.dot(self.weights_hidden2output, hidden_outputs)\n",
        "\n",
        "    final_outputs = self.activation_function(final_inputs)\n",
        "\n",
        "    return final_outputs"
      ],
      "execution_count": null,
      "outputs": []
    },
    {
      "cell_type": "markdown",
      "metadata": {
        "id": "wMfHcGUaXQqa"
      },
      "source": [
        "# Invoke NN"
      ]
    },
    {
      "cell_type": "code",
      "metadata": {
        "id": "goYSMmiin8cR"
      },
      "source": [
        ""
      ],
      "execution_count": null,
      "outputs": []
    },
    {
      "cell_type": "code",
      "metadata": {
        "colab": {
          "base_uri": "https://localhost:8080/"
        },
        "id": "nB2zSNauXVNJ",
        "outputId": "fc303b1a-ce89-4af3-e2e9-63302bfb06a4"
      },
      "source": [
        "nn = NeuralNetwork(input_nodes=3, hidden_nodes=3, output_nodes=3, learning_rate=0.3)\n",
        "\n",
        "nn.query([1.0,0.5,-1.5])\n"
      ],
      "execution_count": null,
      "outputs": [
        {
          "output_type": "execute_result",
          "data": {
            "text/plain": [
              "array([[0.45114505],\n",
              "       [0.54813201],\n",
              "       [0.49978776]])"
            ]
          },
          "metadata": {
            "tags": []
          },
          "execution_count": 9
        }
      ]
    },
    {
      "cell_type": "markdown",
      "metadata": {
        "id": "rG-CgwPFkLmM"
      },
      "source": [
        "# MNIST Digits"
      ]
    },
    {
      "cell_type": "code",
      "metadata": {
        "id": "en0el6Ltn9TK"
      },
      "source": [
        "import matplotlib.pyplot\n",
        "%matplotlib inline"
      ],
      "execution_count": null,
      "outputs": []
    },
    {
      "cell_type": "code",
      "metadata": {
        "colab": {
          "base_uri": "https://localhost:8080/",
          "height": 179
        },
        "id": "nFiRTZtAXdhA",
        "outputId": "58f4cc7a-41d2-4b5e-c755-5bc98e99b470"
      },
      "source": [
        "# data_file​ = open(\"mnist_dataset/mnist_train_100.csv\", 'r')\n",
        "# data_file​ = open(\"gdrive/MyDrive/ml_data/make_nn_scratch/mnist_train_100.csv\", 'r')\n",
        "data_file = open(\"gdrive/MyDrive/ml_data/make_nn_scratch/mnist_train_100.csv\", 'r')\n",
        "\n",
        "data_list = data_file.readlines()\n",
        "data_file.close()\n",
        "data_list[0]"
      ],
      "execution_count": null,
      "outputs": [
        {
          "output_type": "execute_result",
          "data": {
            "application/vnd.google.colaboratory.intrinsic+json": {
              "type": "string"
            },
            "text/plain": [
              "'5,0,0,0,0,0,0,0,0,0,0,0,0,0,0,0,0,0,0,0,0,0,0,0,0,0,0,0,0,0,0,0,0,0,0,0,0,0,0,0,0,0,0,0,0,0,0,0,0,0,0,0,0,0,0,0,0,0,0,0,0,0,0,0,0,0,0,0,0,0,0,0,0,0,0,0,0,0,0,0,0,0,0,0,0,0,0,0,0,0,0,0,0,0,0,0,0,0,0,0,0,0,0,0,0,0,0,0,0,0,0,0,0,0,0,0,0,0,0,0,0,0,0,0,0,0,0,0,0,0,0,0,0,0,0,0,0,0,0,0,0,0,0,0,0,0,0,0,0,0,0,0,0,3,18,18,18,126,136,175,26,166,255,247,127,0,0,0,0,0,0,0,0,0,0,0,0,30,36,94,154,170,253,253,253,253,253,225,172,253,242,195,64,0,0,0,0,0,0,0,0,0,0,0,49,238,253,253,253,253,253,253,253,253,251,93,82,82,56,39,0,0,0,0,0,0,0,0,0,0,0,0,18,219,253,253,253,253,253,198,182,247,241,0,0,0,0,0,0,0,0,0,0,0,0,0,0,0,0,0,0,80,156,107,253,253,205,11,0,43,154,0,0,0,0,0,0,0,0,0,0,0,0,0,0,0,0,0,0,0,14,1,154,253,90,0,0,0,0,0,0,0,0,0,0,0,0,0,0,0,0,0,0,0,0,0,0,0,0,0,139,253,190,2,0,0,0,0,0,0,0,0,0,0,0,0,0,0,0,0,0,0,0,0,0,0,0,0,11,190,253,70,0,0,0,0,0,0,0,0,0,0,0,0,0,0,0,0,0,0,0,0,0,0,0,0,0,35,241,225,160,108,1,0,0,0,0,0,0,0,0,0,0,0,0,0,0,0,0,0,0,0,0,0,0,0,81,240,253,253,119,25,0,0,0,0,0,0,0,0,0,0,0,0,0,0,0,0,0,0,0,0,0,0,0,45,186,253,253,150,27,0,0,0,0,0,0,0,0,0,0,0,0,0,0,0,0,0,0,0,0,0,0,0,16,93,252,253,187,0,0,0,0,0,0,0,0,0,0,0,0,0,0,0,0,0,0,0,0,0,0,0,0,0,249,253,249,64,0,0,0,0,0,0,0,0,0,0,0,0,0,0,0,0,0,0,0,0,0,46,130,183,253,253,207,2,0,0,0,0,0,0,0,0,0,0,0,0,0,0,0,0,0,0,0,39,148,229,253,253,253,250,182,0,0,0,0,0,0,0,0,0,0,0,0,0,0,0,0,0,0,24,114,221,253,253,253,253,201,78,0,0,0,0,0,0,0,0,0,0,0,0,0,0,0,0,0,23,66,213,253,253,253,253,198,81,2,0,0,0,0,0,0,0,0,0,0,0,0,0,0,0,0,18,171,219,253,253,253,253,195,80,9,0,0,0,0,0,0,0,0,0,0,0,0,0,0,0,0,55,172,226,253,253,253,253,244,133,11,0,0,0,0,0,0,0,0,0,0,0,0,0,0,0,0,0,0,136,253,253,253,212,135,132,16,0,0,0,0,0,0,0,0,0,0,0,0,0,0,0,0,0,0,0,0,0,0,0,0,0,0,0,0,0,0,0,0,0,0,0,0,0,0,0,0,0,0,0,0,0,0,0,0,0,0,0,0,0,0,0,0,0,0,0,0,0,0,0,0,0,0,0,0,0,0,0,0,0,0,0,0,0,0,0,0,0,0,0,0,0,0,0,0,0,0,0,0,0,0,0,0,0,0,0,0\\n'"
            ]
          },
          "metadata": {
            "tags": []
          },
          "execution_count": 11
        }
      ]
    },
    {
      "cell_type": "code",
      "metadata": {
        "colab": {
          "base_uri": "https://localhost:8080/",
          "height": 283
        },
        "id": "tjg3PUfZmLv8",
        "outputId": "2f129c70-39d8-4b08-a9c9-24c0d3a772f7"
      },
      "source": [
        "all_values = data_list[0].split(',')\n",
        "\n",
        "# Skip first element, it's the target\n",
        "image_array = np.asfarray(all_values[1:]).reshape((28,28))\n",
        "matplotlib.pyplot.imshow(image_array, cmap='Greys', interpolation='None')"
      ],
      "execution_count": null,
      "outputs": [
        {
          "output_type": "execute_result",
          "data": {
            "text/plain": [
              "<matplotlib.image.AxesImage at 0x7fb797c5b950>"
            ]
          },
          "metadata": {
            "tags": []
          },
          "execution_count": 12
        },
        {
          "output_type": "display_data",
          "data": {
            "image/png": "[encoded data removed]",
            "text/plain": [
              "<Figure size 432x288 with 1 Axes>"
            ]
          },
          "metadata": {
            "tags": [],
            "needs_background": "light"
          }
        }
      ]
    },
    {
      "cell_type": "code",
      "metadata": {
        "colab": {
          "base_uri": "https://localhost:8080/",
          "height": 265
        },
        "id": "0orR1qTYnn3P",
        "outputId": "6fbed019-fb8a-47fe-ab51-7c967115ad45"
      },
      "source": [
        "all_values = data_list[1].split(',')\n",
        "\n",
        "# Skip first element, it's the target\n",
        "image_array = np.asfarray(all_values[1:]).reshape((28,28))\n",
        "matplotlib.pyplot.imshow(image_array, cmap='Greys', interpolation='None');"
      ],
      "execution_count": null,
      "outputs": [
        {
          "output_type": "display_data",
          "data": {
            "image/png": "[encoded data removed]",
            "text/plain": [
              "<Figure size 432x288 with 1 Axes>"
            ]
          },
          "metadata": {
            "tags": [],
            "needs_background": "light"
          }
        }
      ]
    },
    {
      "cell_type": "markdown",
      "metadata": {
        "id": "UKPf9679pYyP"
      },
      "source": [
        "# Scale the Data\n",
        "\n",
        "Dividing the raw inputs which are in the range 0­255 by 255 will bring them into the range 0­1. We then need to multiply by 0.99 to bring them into the range 0.0 ­ 0.99. We then add 0.01 to shift them up to the desired range 0.01 to 1.00 -- p151"
      ]
    },
    {
      "cell_type": "code",
      "metadata": {
        "id": "sRd8bWQ-pP9L"
      },
      "source": [
        "scaled_input = (np.asfarray(all_values[1:])/ 255.0 * 0.99) + 0.01\n",
        "# print(scaled_input)"
      ],
      "execution_count": null,
      "outputs": []
    },
    {
      "cell_type": "code",
      "metadata": {
        "colab": {
          "base_uri": "https://localhost:8080/"
        },
        "id": "3trbnAVvp6CM",
        "outputId": "b100f99d-86d3-4a6d-e35b-1573f00beb10"
      },
      "source": [
        "onodes = 10\n",
        "targets = np.zeros(onodes) + 0.01\n",
        "targets"
      ],
      "execution_count": null,
      "outputs": [
        {
          "output_type": "execute_result",
          "data": {
            "text/plain": [
              "array([0.01, 0.01, 0.01, 0.01, 0.01, 0.01, 0.01, 0.01, 0.01, 0.01])"
            ]
          },
          "metadata": {
            "tags": []
          },
          "execution_count": 15
        }
      ]
    },
    {
      "cell_type": "code",
      "metadata": {
        "colab": {
          "base_uri": "https://localhost:8080/"
        },
        "id": "leT_CLuVq91j",
        "outputId": "7feeb17a-e3db-4ed9-d1a4-995379eaf8b5"
      },
      "source": [
        "targets[int(all_values[0])] = 0.99\n",
        "targets"
      ],
      "execution_count": null,
      "outputs": [
        {
          "output_type": "execute_result",
          "data": {
            "text/plain": [
              "array([0.99, 0.01, 0.01, 0.01, 0.01, 0.01, 0.01, 0.01, 0.01, 0.01])"
            ]
          },
          "metadata": {
            "tags": []
          },
          "execution_count": 16
        }
      ]
    },
    {
      "cell_type": "markdown",
      "metadata": {
        "id": "DCjZYanArsMQ"
      },
      "source": [
        "# Here we go!"
      ]
    },
    {
      "cell_type": "markdown",
      "metadata": {
        "id": "jVgSGLxfsAmp"
      },
      "source": [
        "# Load Training Data/Small Set"
      ]
    },
    {
      "cell_type": "code",
      "metadata": {
        "id": "rVp1uFPqr2QP"
      },
      "source": [
        "training_data_file = open(\"gdrive/MyDrive/ml_data/make_nn_scratch/mnist_train_100.csv\", 'r')\n",
        "\n",
        "training_data_list = training_data_file.readlines()\n",
        "training_data_file.close()\n"
      ],
      "execution_count": null,
      "outputs": []
    },
    {
      "cell_type": "markdown",
      "metadata": {
        "id": "ldkslJGMsSiO"
      },
      "source": [
        "# Create Neural Network"
      ]
    },
    {
      "cell_type": "code",
      "metadata": {
        "id": "-2HiBFb4sUrM"
      },
      "source": [
        "input_nodes = 784\n",
        "\n",
        "hidden_nodes = 100\n",
        "output_nodes = 10\n",
        "\n",
        "learning_rate = 0.3\n",
        "\n",
        "nn = NeuralNetwork(input_nodes, hidden_nodes, output_nodes, learning_rate)"
      ],
      "execution_count": null,
      "outputs": []
    },
    {
      "cell_type": "markdown",
      "metadata": {
        "id": "sVMxe-f3slCn"
      },
      "source": [
        "# Train the Neural Network on Small Data Set"
      ]
    },
    {
      "cell_type": "code",
      "metadata": {
        "id": "q2VJcYchse9U"
      },
      "source": [
        "# Go through all the training data\n",
        "\n",
        "for record in training_data_list:\n",
        "  all_values = record.split(',')\n",
        "  label = int(all_values[0])\n",
        "  inputs = (np.asfarray(all_values[1:]) / 255.0 * 0.99) + 0.01\n",
        "  targets = np.zeros(output_nodes) + 0.01\n",
        "  targets[label] = 0.99 # Label/Answer/Target is first value. \n",
        "  # print(f\"Training digit: {label}, {inputs.shape}, {targets.shape}\")\n",
        "  \n",
        "  nn.train(inputs, targets)\n"
      ],
      "execution_count": null,
      "outputs": []
    },
    {
      "cell_type": "markdown",
      "metadata": {
        "id": "QfmttE-F055h"
      },
      "source": [
        "# Test the Network"
      ]
    },
    {
      "cell_type": "markdown",
      "metadata": {
        "id": "x4VpkhMF1G-P"
      },
      "source": [
        "## Load Small Test Data"
      ]
    },
    {
      "cell_type": "code",
      "metadata": {
        "id": "Xf1yAszVsgTs"
      },
      "source": [
        "test_data_file = open(\"gdrive/MyDrive/ml_data/make_nn_scratch/mnist_test_10.csv\", 'r')\n",
        "\n",
        "test_data_list = test_data_file.readlines()\n",
        "test_data_file.close()\n"
      ],
      "execution_count": null,
      "outputs": []
    },
    {
      "cell_type": "markdown",
      "metadata": {
        "id": "wTI0eKAKkwLm"
      },
      "source": [
        "## Show First Record"
      ]
    },
    {
      "cell_type": "code",
      "metadata": {
        "colab": {
          "base_uri": "https://localhost:8080/",
          "height": 265
        },
        "id": "qvEVtE8z1DPo",
        "outputId": "1257c321-f215-42d1-aa85-72eb16facf13"
      },
      "source": [
        "all_values = test_data_list[0].split(',')\n",
        "\n",
        "# Skip first element, it's the target\n",
        "image_array = np.asfarray(all_values[1:]).reshape((28,28))\n",
        "matplotlib.pyplot.imshow(image_array, cmap='Greys', interpolation='None');"
      ],
      "execution_count": null,
      "outputs": [
        {
          "output_type": "display_data",
          "data": {
            "image/png": "[encoded data removed]",
            "text/plain": [
              "<Figure size 432x288 with 1 Axes>"
            ]
          },
          "metadata": {
            "tags": [],
            "needs_background": "light"
          }
        }
      ]
    },
    {
      "cell_type": "markdown",
      "metadata": {
        "id": "nXc-BZOd1jHy"
      },
      "source": [
        "# Predict First Test Record\n",
        "\n",
        "Notice that we score around 38% on prediction"
      ]
    },
    {
      "cell_type": "code",
      "metadata": {
        "colab": {
          "base_uri": "https://localhost:8080/"
        },
        "id": "ZnOC_Ma11XEC",
        "outputId": "61d1f776-a255-4578-d761-730adb19969f"
      },
      "source": [
        "nn.query((np.asfarray(all_values[1:]) / 255.0 * 0.99) + 0.01)"
      ],
      "execution_count": null,
      "outputs": [
        {
          "output_type": "execute_result",
          "data": {
            "text/plain": [
              "array([[0.10826455],\n",
              "       [0.10551061],\n",
              "       [0.06660755],\n",
              "       [0.16899288],\n",
              "       [0.14121594],\n",
              "       [0.05279172],\n",
              "       [0.04623024],\n",
              "       [0.38979772],\n",
              "       [0.11335914],\n",
              "       [0.07974338]])"
            ]
          },
          "metadata": {
            "tags": []
          },
          "execution_count": 22
        }
      ]
    },
    {
      "cell_type": "markdown",
      "metadata": {
        "id": "7LkAqaT-33EJ"
      },
      "source": [
        "# Predict for Small MNIST Dataset\n",
        "\n",
        "Generate a Scorecard"
      ]
    },
    {
      "cell_type": "code",
      "metadata": {
        "colab": {
          "base_uri": "https://localhost:8080/"
        },
        "id": "onvWWYqU3-Jp",
        "outputId": "d4c6d7f3-17db-433b-9bfc-d8a09e62ac27"
      },
      "source": [
        "scorecard = []\n",
        "\n",
        "\n",
        "for record in test_data_list:\n",
        "  all_values = record.split(',')\n",
        "  correct_label = int(all_values[0])\n",
        "  print(f\"Correct label: {correct_label}\")\n",
        "\n",
        "  inputs = (np.asfarray(all_values[1:]) / 255.0 * 0.99) + 0.01 # Scale\n",
        "  # targets = np.zeros(output_nodes) + 0.01\n",
        "  # targets[label] = 0.99 # Label/Answer/Target is first value. \n",
        "  outputs = nn.query(inputs)\n",
        "\n",
        "  label = np.argmax(outputs)\n",
        "  # print(f\"Network predicted answer: {label}\")\n",
        "\n",
        "  if (label == correct_label):\n",
        "    scorecard.append(1)\n",
        "  else:\n",
        "    scorecard.append(0)\n"
      ],
      "execution_count": null,
      "outputs": [
        {
          "output_type": "stream",
          "text": [
            "Correct label: 7\n",
            "Correct label: 2\n",
            "Correct label: 1\n",
            "Correct label: 0\n",
            "Correct label: 4\n",
            "Correct label: 1\n",
            "Correct label: 4\n",
            "Correct label: 9\n",
            "Correct label: 5\n",
            "Correct label: 9\n"
          ],
          "name": "stdout"
        }
      ]
    },
    {
      "cell_type": "code",
      "metadata": {
        "colab": {
          "base_uri": "https://localhost:8080/"
        },
        "id": "OTjwvp-W5Lyx",
        "outputId": "3ea1f494-0073-41ff-e30e-ee7a87a79671"
      },
      "source": [
        "print(scorecard)"
      ],
      "execution_count": null,
      "outputs": [
        {
          "output_type": "stream",
          "text": [
            "[1, 0, 1, 1, 1, 1, 1, 0, 0, 0]\n"
          ],
          "name": "stdout"
        }
      ]
    },
    {
      "cell_type": "code",
      "metadata": {
        "colab": {
          "base_uri": "https://localhost:8080/"
        },
        "id": "FyMmq8F75RBi",
        "outputId": "8e645bcc-91e9-49f7-c000-34378e1de8b8"
      },
      "source": [
        "scorecard_array = np.asarray(scorecard)\n",
        "print(f\"Performance = {scorecard_array.sum()/ scorecard_array.size}\")"
      ],
      "execution_count": null,
      "outputs": [
        {
          "output_type": "stream",
          "text": [
            "Performance = 0.6\n"
          ],
          "name": "stdout"
        }
      ]
    },
    {
      "cell_type": "markdown",
      "metadata": {
        "id": "PptG6UxFjX9a"
      },
      "source": [
        "# Full Training/Test Dataset"
      ]
    },
    {
      "cell_type": "markdown",
      "metadata": {
        "id": "PCVTJuTNjn3W"
      },
      "source": [
        "## Load Full Training Data"
      ]
    },
    {
      "cell_type": "code",
      "metadata": {
        "id": "4CAmft1Y3NLZ"
      },
      "source": [
        "training_data_file = open(\"gdrive/MyDrive/ml_data/make_nn_scratch/mnist_train.csv\", 'r')\n",
        "\n",
        "training_data_list = training_data_file.readlines()\n",
        "training_data_file.close()\n"
      ],
      "execution_count": null,
      "outputs": []
    },
    {
      "cell_type": "markdown",
      "metadata": {
        "id": "3lPDgYh-jr8Y"
      },
      "source": [
        "# Load Full Test Data"
      ]
    },
    {
      "cell_type": "code",
      "metadata": {
        "id": "aorWdEfh3XXb"
      },
      "source": [
        "test_data_file = open(\"gdrive/MyDrive/ml_data/make_nn_scratch/mnist_test.csv\", 'r')\n",
        "\n",
        "test_data_list = test_data_file.readlines()\n",
        "test_data_file.close()\n"
      ],
      "execution_count": null,
      "outputs": []
    },
    {
      "cell_type": "code",
      "metadata": {
        "id": "77IBQ-KUkQ12"
      },
      "source": [
        "input_nodes = 784\n",
        "\n",
        "hidden_nodes = 100\n",
        "output_nodes = 10\n",
        "\n",
        "learning_rate = 0.3\n",
        "\n",
        "nn = NeuralNetwork(input_nodes, hidden_nodes, output_nodes, learning_rate)"
      ],
      "execution_count": null,
      "outputs": []
    },
    {
      "cell_type": "code",
      "metadata": {
        "id": "_HUtOeD-kXGI"
      },
      "source": [
        "# Go through all the training data\n",
        "\n",
        "for record in training_data_list:\n",
        "  all_values = record.split(',')\n",
        "  label = int(all_values[0])\n",
        "  inputs = (np.asfarray(all_values[1:]) / 255.0 * 0.99) + 0.01\n",
        "  targets = np.zeros(output_nodes) + 0.01\n",
        "  targets[label] = 0.99 # Label/Answer/Target is first value. \n",
        "  # print(f\"Training digit: {label}, {inputs.shape}, {targets.shape}\")\n",
        "  \n",
        "  nn.train(inputs, targets)\n"
      ],
      "execution_count": null,
      "outputs": []
    },
    {
      "cell_type": "markdown",
      "metadata": {
        "id": "YJYKtWyhlcUV"
      },
      "source": [
        "# Show First Record"
      ]
    },
    {
      "cell_type": "code",
      "metadata": {
        "colab": {
          "base_uri": "https://localhost:8080/",
          "height": 265
        },
        "id": "R-G9uBFpkrgF",
        "outputId": "b1582dc1-2561-4a44-b30c-533ab4dd6b61"
      },
      "source": [
        "all_values = test_data_list[0].split(',')\n",
        "\n",
        "# Skip first element, it's the target\n",
        "image_array = np.asfarray(all_values[1:]).reshape((28,28))\n",
        "matplotlib.pyplot.imshow(image_array, cmap='Greys', interpolation='None');"
      ],
      "execution_count": null,
      "outputs": [
        {
          "output_type": "display_data",
          "data": {
            "image/png": "[encoded data removed]",
            "text/plain": [
              "<Figure size 432x288 with 1 Axes>"
            ]
          },
          "metadata": {
            "tags": [],
            "needs_background": "light"
          }
        }
      ]
    },
    {
      "cell_type": "markdown",
      "metadata": {
        "id": "qNdK4QEVlWzJ"
      },
      "source": [
        "# Predict First Record\n",
        "\n",
        "Notice that we score around 98% on prediction.\n",
        "\n",
        "More training data helped!"
      ]
    },
    {
      "cell_type": "code",
      "metadata": {
        "colab": {
          "base_uri": "https://localhost:8080/"
        },
        "id": "uRKKjw2rlWBi",
        "outputId": "89534143-5df6-4bff-cb34-d5fccda7e4ae"
      },
      "source": [
        "nn.query((np.asfarray(all_values[1:]) / 255.0 * 0.99) + 0.01)"
      ],
      "execution_count": null,
      "outputs": [
        {
          "output_type": "execute_result",
          "data": {
            "text/plain": [
              "array([[0.00124618],\n",
              "       [0.00287181],\n",
              "       [0.0015874 ],\n",
              "       [0.00170769],\n",
              "       [0.0016063 ],\n",
              "       [0.00390413],\n",
              "       [0.00179864],\n",
              "       [0.98691466],\n",
              "       [0.00218761],\n",
              "       [0.00417134]])"
            ]
          },
          "metadata": {
            "tags": []
          },
          "execution_count": 36
        }
      ]
    },
    {
      "cell_type": "markdown",
      "metadata": {
        "id": "96SWUyjwousa"
      },
      "source": [
        "# Score for Full Dataset"
      ]
    },
    {
      "cell_type": "code",
      "metadata": {
        "id": "i9OQMeKWmABz"
      },
      "source": [
        "scorecard = []\n",
        "\n",
        "\n",
        "for record in test_data_list:\n",
        "  all_values = record.split(',')\n",
        "  correct_label = int(all_values[0])\n",
        "  # print(f\"Correct label: {correct_label}\")\n",
        "\n",
        "  inputs = (np.asfarray(all_values[1:]) / 255.0 * 0.99) + 0.01 # Scale\n",
        "  # targets = np.zeros(output_nodes) + 0.01\n",
        "  # targets[label] = 0.99 # Label/Answer/Target is first value. \n",
        "  outputs = nn.query(inputs)\n",
        "\n",
        "  label = np.argmax(outputs)\n",
        "  # print(f\"Network predicted answer: {label}\")\n",
        "\n",
        "  if (label == correct_label):\n",
        "    scorecard.append(1)\n",
        "  else:\n",
        "    scorecard.append(0)\n"
      ],
      "execution_count": null,
      "outputs": []
    },
    {
      "cell_type": "markdown",
      "metadata": {
        "id": "q-OtKBV_mK9n"
      },
      "source": [
        "# Scorecard"
      ]
    },
    {
      "cell_type": "code",
      "metadata": {
        "colab": {
          "base_uri": "https://localhost:8080/"
        },
        "id": "qK8zjPqUmKMV",
        "outputId": "ccf19f61-654e-42ae-d5ee-d6d123189fdd"
      },
      "source": [
        "scorecard_array = np.asarray(scorecard)\n",
        "print(f\"Performance = {scorecard_array.sum()/ scorecard_array.size}\")"
      ],
      "execution_count": null,
      "outputs": [
        {
          "output_type": "stream",
          "text": [
            "Performance = 0.9453\n"
          ],
          "name": "stdout"
        }
      ]
    },
    {
      "cell_type": "markdown",
      "metadata": {
        "id": "I6B9QqoS2wbg"
      },
      "source": [
        "# Add Epochs"
      ]
    },
    {
      "cell_type": "code",
      "metadata": {
        "id": "aCnA0U7y1sMS"
      },
      "source": [
        "input_nodes = 784\n",
        "\n",
        "hidden_nodes = 200\n",
        "output_nodes = 10\n",
        "\n",
        "learning_rate = 0.1\n",
        "\n",
        "nn = NeuralNetwork(input_nodes, hidden_nodes, output_nodes, learning_rate)\n",
        "\n",
        "epochs = 5\n",
        "\n",
        "# Go through all the training data\n",
        "for e in range(epochs):\n",
        "  for record in training_data_list:\n",
        "    all_values = record.split(',')\n",
        "    label = int(all_values[0])\n",
        "    inputs = (np.asfarray(all_values[1:]) / 255.0 * 0.99) + 0.01\n",
        "    targets = np.zeros(output_nodes) + 0.01\n",
        "    targets[label] = 0.99 # Label/Answer/Target is first value. \n",
        "    # print(f\"Training digit: {label}, {inputs.shape}, {targets.shape}\")\n",
        "    \n",
        "    nn.train(inputs, targets)"
      ],
      "execution_count": null,
      "outputs": []
    },
    {
      "cell_type": "code",
      "metadata": {
        "id": "TAayMY083s-S"
      },
      "source": [
        "scorecard = []\n",
        "\n",
        "for record in test_data_list:\n",
        "  all_values = record.split(',')\n",
        "  correct_label = int(all_values[0])\n",
        "  # print(f\"Correct label: {correct_label}\")\n",
        "\n",
        "  inputs = (np.asfarray(all_values[1:]) / 255.0 * 0.99) + 0.01 # Scale\n",
        "  # targets = np.zeros(output_nodes) + 0.01\n",
        "  # targets[label] = 0.99 # Label/Answer/Target is first value. \n",
        "  outputs = nn.query(inputs)\n",
        "\n",
        "  label = np.argmax(outputs)\n",
        "  # print(f\"Network predicted answer: {label}\")\n",
        "\n",
        "  if (label == correct_label):\n",
        "    scorecard.append(1)\n",
        "  else:\n",
        "    scorecard.append(0)\n"
      ],
      "execution_count": null,
      "outputs": []
    },
    {
      "cell_type": "code",
      "metadata": {
        "colab": {
          "base_uri": "https://localhost:8080/"
        },
        "id": "aoTtfqTAnzSc",
        "outputId": "c7740e6e-fae2-4cb2-b5bc-182a0166cfa4"
      },
      "source": [
        "scorecard_array = np.asarray(scorecard)\n",
        "print(f\"Performance = {scorecard_array.sum()/ scorecard_array.size}\")"
      ],
      "execution_count": null,
      "outputs": [
        {
          "output_type": "stream",
          "text": [
            "Performance = 0.9738\n"
          ],
          "name": "stdout"
        }
      ]
    },
    {
      "cell_type": "code",
      "metadata": {
        "id": "00bP1iyEoX8-"
      },
      "source": [
        ""
      ],
      "execution_count": null,
      "outputs": []
    }
  ]
}